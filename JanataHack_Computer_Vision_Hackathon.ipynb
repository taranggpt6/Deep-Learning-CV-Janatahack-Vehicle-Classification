{
  "nbformat": 4,
  "nbformat_minor": 0,
  "metadata": {
    "kernelspec": {
      "display_name": "Python 3",
      "language": "python",
      "name": "python3"
    },
    "language_info": {
      "codemirror_mode": {
        "name": "ipython",
        "version": 3
      },
      "file_extension": ".py",
      "mimetype": "text/x-python",
      "name": "python",
      "nbconvert_exporter": "python",
      "pygments_lexer": "ipython3",
      "version": "3.7.4"
    },
    "colab": {
      "name": "JanataHack Computer Vision Hackathon.ipynb",
      "provenance": [],
      "include_colab_link": true
    }
  },
  "cells": [
    {
      "cell_type": "markdown",
      "metadata": {
        "id": "view-in-github",
        "colab_type": "text"
      },
      "source": [
        "<a href=\"https://colab.research.google.com/github/taranggpt6/Deep-Learning-CV-Janatahack-Vehicle-Classification/blob/main/JanataHack_Computer_Vision_Hackathon.ipynb\" target=\"_parent\"><img src=\"https://colab.research.google.com/assets/colab-badge.svg\" alt=\"Open In Colab\"/></a>"
      ]
    },
    {
      "cell_type": "code",
      "metadata": {
        "id": "FYdd_hRlVG0d",
        "outputId": "41b7a110-e975-4cf1-ddf1-edc1a12a3da7"
      },
      "source": [
        "import pandas as pd\n",
        "import numpy as np\n",
        "np.set_printoptions(threshold=np.inf)\n",
        "import matplotlib.pyplot as plt\n",
        "import os\n",
        "import cv2\n",
        "import shutil\n",
        "\n",
        "import tensorflow as tf\n",
        "print(tf.__version__)\n",
        "\n",
        "import warnings\n",
        "warnings.filterwarnings('ignore')"
      ],
      "execution_count": null,
      "outputs": [
        {
          "output_type": "stream",
          "text": [
            "1.13.1\n"
          ],
          "name": "stdout"
        }
      ]
    },
    {
      "cell_type": "code",
      "metadata": {
        "id": "xYsd42YcVG0v",
        "outputId": "538e4f25-7079-4a14-8794-cf9df33b7b8c"
      },
      "source": [
        "train = pd.read_csv(r\"C:\\Users\\Tamma\\Desktop\\PGD ML & AI\\DataSets\\AnalyticsVidyaHackathon\\Computer Vision\\train_SOaYf6m\\train.csv\")\n",
        "test = pd.read_csv(r\"C:\\Users\\Tamma\\Desktop\\PGD ML & AI\\DataSets\\AnalyticsVidyaHackathon\\Computer Vision\\test_vc2kHdQ.csv\")\n",
        "\n",
        "print(train.shape)\n",
        "print(test.shape)"
      ],
      "execution_count": null,
      "outputs": [
        {
          "output_type": "stream",
          "text": [
            "(1646, 2)\n",
            "(706, 1)\n"
          ],
          "name": "stdout"
        }
      ]
    },
    {
      "cell_type": "code",
      "metadata": {
        "id": "CdoQKnRNVG06",
        "outputId": "f22b61e7-c2d1-4336-da18-579246313926"
      },
      "source": [
        "train.head()"
      ],
      "execution_count": null,
      "outputs": [
        {
          "output_type": "execute_result",
          "data": {
            "text/html": [
              "<div>\n",
              "<style scoped>\n",
              "    .dataframe tbody tr th:only-of-type {\n",
              "        vertical-align: middle;\n",
              "    }\n",
              "\n",
              "    .dataframe tbody tr th {\n",
              "        vertical-align: top;\n",
              "    }\n",
              "\n",
              "    .dataframe thead th {\n",
              "        text-align: right;\n",
              "    }\n",
              "</style>\n",
              "<table border=\"1\" class=\"dataframe\">\n",
              "  <thead>\n",
              "    <tr style=\"text-align: right;\">\n",
              "      <th></th>\n",
              "      <th>image_names</th>\n",
              "      <th>emergency_or_not</th>\n",
              "    </tr>\n",
              "  </thead>\n",
              "  <tbody>\n",
              "    <tr>\n",
              "      <th>0</th>\n",
              "      <td>1503.jpg</td>\n",
              "      <td>0</td>\n",
              "    </tr>\n",
              "    <tr>\n",
              "      <th>1</th>\n",
              "      <td>1420.jpg</td>\n",
              "      <td>0</td>\n",
              "    </tr>\n",
              "    <tr>\n",
              "      <th>2</th>\n",
              "      <td>1764.jpg</td>\n",
              "      <td>0</td>\n",
              "    </tr>\n",
              "    <tr>\n",
              "      <th>3</th>\n",
              "      <td>1356.jpg</td>\n",
              "      <td>0</td>\n",
              "    </tr>\n",
              "    <tr>\n",
              "      <th>4</th>\n",
              "      <td>1117.jpg</td>\n",
              "      <td>0</td>\n",
              "    </tr>\n",
              "  </tbody>\n",
              "</table>\n",
              "</div>"
            ],
            "text/plain": [
              "  image_names  emergency_or_not\n",
              "0    1503.jpg                 0\n",
              "1    1420.jpg                 0\n",
              "2    1764.jpg                 0\n",
              "3    1356.jpg                 0\n",
              "4    1117.jpg                 0"
            ]
          },
          "metadata": {
            "tags": []
          },
          "execution_count": 4
        }
      ]
    },
    {
      "cell_type": "code",
      "metadata": {
        "id": "ubmkFl-kVG1B",
        "outputId": "407733f1-698f-4343-bbcb-ae4bfda3a280"
      },
      "source": [
        "train.emergency_or_not.value_counts().plot(kind='bar')"
      ],
      "execution_count": null,
      "outputs": [
        {
          "output_type": "execute_result",
          "data": {
            "text/plain": [
              "<matplotlib.axes._subplots.AxesSubplot at 0x1c2b5339548>"
            ]
          },
          "metadata": {
            "tags": []
          },
          "execution_count": 5
        },
        {
          "output_type": "display_data",
          "data": {
            "image/png": "[encoded data removed]",
            "text/plain": [
              "<Figure size 432x288 with 1 Axes>"
            ]
          },
          "metadata": {
            "tags": [],
            "needs_background": "light"
          }
        }
      ]
    },
    {
      "cell_type": "markdown",
      "metadata": {
        "id": "W8w84VTjVG1V"
      },
      "source": [
        "\n",
        "1. 0 - Non-Emergency\n",
        "2. 1 - Emergency"
      ]
    },
    {
      "cell_type": "code",
      "metadata": {
        "id": "6H-rz2kHVG1X",
        "outputId": "18b6934c-17ba-402c-c2c9-8aecd80d2c6d"
      },
      "source": [
        "image_path = r'C:\\Users\\Tamma\\Desktop\\PGD ML & AI\\DataSets\\AnalyticsVidyaHackathon\\Computer Vision\\train_SOaYf6m\\images'\n",
        "\n",
        "image_dir = os.path.join(image_path)\n",
        "print(image_dir)\n",
        "images = os.listdir(image_dir) #All Images\n",
        "len(images)"
      ],
      "execution_count": null,
      "outputs": [
        {
          "output_type": "stream",
          "text": [
            "C:\\Users\\Tamma\\Desktop\\PGD ML & AI\\DataSets\\AnalyticsVidyaHackathon\\Computer Vision\\train_SOaYf6m\\images\n"
          ],
          "name": "stdout"
        },
        {
          "output_type": "execute_result",
          "data": {
            "text/plain": [
              "2352"
            ]
          },
          "metadata": {
            "tags": []
          },
          "execution_count": 6
        }
      ]
    },
    {
      "cell_type": "code",
      "metadata": {
        "id": "PkVMY3ISVG1k",
        "outputId": "502740de-1356-402d-ad48-81066bd4726d"
      },
      "source": [
        "\n",
        "print('Train Images names with Lables (csv):',train.shape) #all Train images with labels\n",
        "# print('-'*60)\n",
        "\n",
        "def plot_train_image():\n",
        "    #generating random index to see the random image\n",
        "    random_image = np.random.randint(0,len(train.image_names))\n",
        "    print('Random image index :',random_image) #random image index\n",
        "    img = cv2.imread(image_dir+'\\\\'+train.image_names[random_image]) #reading the random image from the train set \n",
        "    print('\\nShape of Image :',img.shape) #shape of the image\n",
        "    plt.imshow(img)\n",
        "    plt.title(train.image_names[random_image]) #name of the image\n",
        "    label = 'Non_Emergency 'if train.emergency_or_not[random_image]==0 else 'Emergency'\n",
        "    col = 'green' if train.emergency_or_not[random_image]==0 else 'red'\n",
        "    plt.xlabel(label,color=col) #label of the image\n",
        "    return"
      ],
      "execution_count": null,
      "outputs": [
        {
          "output_type": "stream",
          "text": [
            "Train Images names with Lables (csv): (1646, 2)\n"
          ],
          "name": "stdout"
        }
      ]
    },
    {
      "cell_type": "code",
      "metadata": {
        "id": "6_GYoOrGVG1v",
        "outputId": "5f3e32b0-e603-46ff-a951-b2f881fea3a7"
      },
      "source": [
        "plot_train_image()"
      ],
      "execution_count": null,
      "outputs": [
        {
          "output_type": "stream",
          "text": [
            "Random image index : 1373\n",
            "\n",
            "Shape of Image : (224, 224, 3)\n"
          ],
          "name": "stdout"
        },
        {
          "output_type": "display_data",
          "data": {
            "image/png": "[encoded data removed]",
            "text/plain": [
              "<Figure size 432x288 with 1 Axes>"
            ]
          },
          "metadata": {
            "tags": [],
            "needs_background": "light"
          }
        }
      ]
    },
    {
      "cell_type": "code",
      "metadata": {
        "id": "AvOBaIOuVG13",
        "outputId": "a193d61c-abd4-4b17-8c7c-c6391f7a3402"
      },
      "source": [
        "target_path = r'C:\\Users\\Tamma\\Desktop\\Python Files\\Computer Vision'\n",
        "target_dir = os.path.join(target_path)\n",
        "print(target_dir)\n",
        "\n",
        "try:\n",
        "    #Train Directory\n",
        "    os.mkdir(target_dir+'\\\\'+'Vehicle_Images')\n",
        "    os.mkdir(target_dir+'\\\\'+'Vehicle_Images\\\\Train_Images')\n",
        "    os.mkdir(target_dir+'\\\\'+'Vehicle_Images\\\\Train_Images\\\\Emergency_Veh')\n",
        "    os.mkdir(target_dir+'\\\\'+'Vehicle_Images\\\\Train_Images\\\\Non_Emergency_Veh')\n",
        "    #Test Directory\n",
        "    os.mkdir(target_dir+'\\\\'+'Vehicle_Images\\\\Test_Images')\n",
        "    os.mkdir(target_dir+'\\\\'+'Vehicle_Images\\\\Test_Images\\\\Emergency_Veh')\n",
        "    os.mkdir(target_dir+'\\\\'+'Vehicle_Images\\\\Test_Images\\\\Non_Emergency_Veh')\n",
        "except OSError:\n",
        "    pass"
      ],
      "execution_count": null,
      "outputs": [
        {
          "output_type": "stream",
          "text": [
            "C:\\Users\\Tamma\\Desktop\\Python Files\\Computer Vision\n"
          ],
          "name": "stdout"
        }
      ]
    },
    {
      "cell_type": "code",
      "metadata": {
        "id": "sGXngK6NVG18",
        "outputId": "6da8b781-1c69-45f1-fe3d-cd64a001fee4"
      },
      "source": [
        "train_dir = r'C:\\Users\\Tamma\\Desktop\\Python Files\\Computer Vision\\Vehicle_Images\\Train_Images'\n",
        "TRAIN_DIR = os.path.join(train_dir)\n",
        "print(TRAIN_DIR)\n",
        "\n",
        "test_dir = r'C:\\Users\\Tamma\\Desktop\\Python Files\\Computer Vision\\Vehicle_Images\\Test_Images'\n",
        "TEST_DIR = os.path.join(test_dir)\n",
        "print(TEST_DIR)\n",
        "\n",
        "print(image_dir)"
      ],
      "execution_count": null,
      "outputs": [
        {
          "output_type": "stream",
          "text": [
            "C:\\Users\\Tamma\\Desktop\\Python Files\\Computer Vision\\Vehicle_Images\\Train_Images\n",
            "C:\\Users\\Tamma\\Desktop\\Python Files\\Computer Vision\\Vehicle_Images\\Test_Images\n",
            "C:\\Users\\Tamma\\Desktop\\PGD ML & AI\\DataSets\\AnalyticsVidyaHackathon\\Computer Vision\\train_SOaYf6m\\images\n"
          ],
          "name": "stdout"
        }
      ]
    },
    {
      "cell_type": "code",
      "metadata": {
        "id": "r63P8Mc9VG2A",
        "outputId": "0df9704c-c51b-4754-bbe6-325edd11c3bc"
      },
      "source": [
        "non_emergency = train.loc[train.emergency_or_not==0]\n",
        "emergency = train.loc[train.emergency_or_not==1]\n",
        "\n",
        "print(non_emergency.shape)\n",
        "print(emergency.shape)"
      ],
      "execution_count": null,
      "outputs": [
        {
          "output_type": "stream",
          "text": [
            "(965, 2)\n",
            "(681, 2)\n"
          ],
          "name": "stdout"
        }
      ]
    },
    {
      "cell_type": "markdown",
      "metadata": {
        "id": "43esyeVIVG2E"
      },
      "source": [
        "#### To Train the images:\n",
        "Let's use 750 images from non_emergency class vehicles and 600 images from emergency class vehicles"
      ]
    },
    {
      "cell_type": "code",
      "metadata": {
        "id": "vzbzGsvrVG2E"
      },
      "source": [
        "#names of all training images from class non_emergency\n",
        "all_non_emer_imgs = list(non_emergency.image_names)\n",
        "all_emer_imgs = list(emergency.image_names)\n",
        "\n",
        "def split_train_test():\n",
        "    #copying 750 images of non_emergency vehicles to train folder\n",
        "    for image in all_non_emer_imgs[:step_non_emer]:\n",
        "        shutil.copyfile(image_dir + '\\\\'+ image, train_non_emer_dir +image)\n",
        "    #copying rest images of non_emergency vehicles to test folder\n",
        "    for image in all_non_emer_imgs[step_non_emer:]:\n",
        "        shutil.copyfile(image_dir + '\\\\'+ image, test_non_emer_dir +image)\n",
        "\n",
        "    #copying 600 images of emergency vehicles to train folder\n",
        "    for image in all_emer_imgs[:step_emer]:\n",
        "        shutil.copyfile(image_dir + '\\\\'+ image, train_emer_dir +image)\n",
        "    #copying rest images of emergency vehicles to test folder\n",
        "    for image in all_emer_imgs[step_emer:]:\n",
        "        shutil.copyfile(image_dir + '\\\\'+ image, test_emer_dir +image)\n",
        "    return\n",
        "    \n",
        "step_non_emer = 750\n",
        "step_emer = 600\n",
        "\n",
        "#directories for non_emregency vehicles\n",
        "train_non_emer_dir = TRAIN_DIR + '\\\\' + 'Non_Emergency_Veh\\\\'\n",
        "test_non_emer_dir = TEST_DIR + '\\\\' + 'Non_Emergency_Veh\\\\'\n",
        "\n",
        "#directories for emregency vehicles\n",
        "train_emer_dir = TRAIN_DIR + '\\\\' + 'Emergency_Veh\\\\'\n",
        "test_emer_dir = TEST_DIR + '\\\\' + 'Emergency_Veh\\\\'\n",
        "\n",
        "split_train_test()"
      ],
      "execution_count": null,
      "outputs": []
    },
    {
      "cell_type": "code",
      "metadata": {
        "id": "I4Zr5lIRVG2H",
        "outputId": "cd755e5f-220e-4407-d01b-4f918b9d75a4"
      },
      "source": [
        "print('Non_Emergency Vehicles for training : ',len(os.listdir(train_non_emer_dir)))\n",
        "print('Non_Emergency Vehicles for testing  : ',len(os.listdir(test_non_emer_dir)))\n",
        "print('Emergency Vehicles for trainig      : ',len(os.listdir(train_emer_dir)))\n",
        "print('Emergency Vehicles for testing      : ',len(os.listdir(test_emer_dir)))"
      ],
      "execution_count": null,
      "outputs": [
        {
          "output_type": "stream",
          "text": [
            "Non_Emergency Vehicles for training :  750\n",
            "Non_Emergency Vehicles for testing  :  215\n",
            "Emergency Vehicles for trainig      :  600\n",
            "Emergency Vehicles for testing      :  81\n"
          ],
          "name": "stdout"
        }
      ]
    },
    {
      "cell_type": "markdown",
      "metadata": {
        "id": "nIuiFmrAVG2L"
      },
      "source": [
        "Train Images ->>\n",
        "1. Non_Emergency : 750\n",
        "2. Emergency : 600\n",
        "\n",
        "\n",
        "Test Images ->>\n",
        "1. Non_Emergency : 215\n",
        "2. Emergency : 81"
      ]
    },
    {
      "cell_type": "code",
      "metadata": {
        "id": "zlFnacoAVG2L",
        "outputId": "9c56c3a6-dcc2-4d01-89a1-148e25ec8324"
      },
      "source": [
        "train_gen = tf.keras.preprocessing.image.ImageDataGenerator(rescale=1/255)\n",
        "valid_gen = tf.keras.preprocessing.image.ImageDataGenerator(rescale=1/255)\n",
        "\n",
        "train_generator = train_gen.flow_from_directory(TRAIN_DIR,\n",
        "                                                batch_size=16,\n",
        "                                                target_size=(220,220),\n",
        "                                                class_mode='binary',\n",
        "                                                color_mode='rgb'\n",
        "                                               )\n",
        "\n",
        "validation_generator = valid_gen.flow_from_directory(TEST_DIR,\n",
        "                                                batch_size=16,\n",
        "                                                target_size=(220,220),\n",
        "                                                class_mode='binary',\n",
        "                                                color_mode='rgb'\n",
        "                                               )"
      ],
      "execution_count": null,
      "outputs": [
        {
          "output_type": "stream",
          "text": [
            "Found 1350 images belonging to 2 classes.\n",
            "Found 296 images belonging to 2 classes.\n"
          ],
          "name": "stdout"
        }
      ]
    },
    {
      "cell_type": "code",
      "metadata": {
        "id": "eiWfYt2BVG2P",
        "outputId": "255403de-5a07-422a-d87b-69b63afd4680"
      },
      "source": [
        "model = tf.keras.models.Sequential([\n",
        "    tf.keras.layers.Conv2D(16,(3,3),activation='relu',padding='same',input_shape=(220,220,3)),\n",
        "    tf.keras.layers.MaxPooling2D(2,2),\n",
        "    \n",
        "    tf.keras.layers.Conv2D(32,(3,3),activation='relu'),\n",
        "    tf.keras.layers.MaxPooling2D(2,2),\n",
        "    \n",
        "    tf.keras.layers.Conv2D(64,(3,3),activation='relu'),\n",
        "    tf.keras.layers.MaxPooling2D(2,2),\n",
        "    \n",
        "    tf.keras.layers.Flatten(),\n",
        "    \n",
        "    tf.keras.layers.Dense(128,activation='relu'),\n",
        "    tf.keras.layers.Dense(1,activation='sigmoid')\n",
        "])\n",
        "\n",
        "model.compile(loss=tf.keras.losses.binary_crossentropy,\n",
        "             optimizer=tf.keras.optimizers.SGD(),\n",
        "             metrics=['accuracy'])\n",
        "\n",
        "model.summary()"
      ],
      "execution_count": null,
      "outputs": [
        {
          "output_type": "stream",
          "text": [
            "WARNING:tensorflow:From C:\\Users\\Tamma\\Anaconda3\\lib\\site-packages\\tensorflow\\python\\ops\\resource_variable_ops.py:435: colocate_with (from tensorflow.python.framework.ops) is deprecated and will be removed in a future version.\n",
            "Instructions for updating:\n",
            "Colocations handled automatically by placer.\n",
            "_________________________________________________________________\n",
            "Layer (type)                 Output Shape              Param #   \n",
            "=================================================================\n",
            "conv2d (Conv2D)              (None, 220, 220, 16)      448       \n",
            "_________________________________________________________________\n",
            "max_pooling2d (MaxPooling2D) (None, 110, 110, 16)      0         \n",
            "_________________________________________________________________\n",
            "conv2d_1 (Conv2D)            (None, 108, 108, 32)      4640      \n",
            "_________________________________________________________________\n",
            "max_pooling2d_1 (MaxPooling2 (None, 54, 54, 32)        0         \n",
            "_________________________________________________________________\n",
            "conv2d_2 (Conv2D)            (None, 52, 52, 64)        18496     \n",
            "_________________________________________________________________\n",
            "max_pooling2d_2 (MaxPooling2 (None, 26, 26, 64)        0         \n",
            "_________________________________________________________________\n",
            "flatten (Flatten)            (None, 43264)             0         \n",
            "_________________________________________________________________\n",
            "dense (Dense)                (None, 128)               5537920   \n",
            "_________________________________________________________________\n",
            "dense_1 (Dense)              (None, 1)                 129       \n",
            "=================================================================\n",
            "Total params: 5,561,633\n",
            "Trainable params: 5,561,633\n",
            "Non-trainable params: 0\n",
            "_________________________________________________________________\n"
          ],
          "name": "stdout"
        }
      ]
    },
    {
      "cell_type": "code",
      "metadata": {
        "id": "RTWPzebqVG2T",
        "outputId": "a8c14d0f-4aa1-44b4-88ea-c504c205ef1f"
      },
      "source": [
        "results = model.fit_generator(train_generator,\n",
        "                   epochs=10,\n",
        "                   validation_data=validation_generator)"
      ],
      "execution_count": null,
      "outputs": [
        {
          "output_type": "stream",
          "text": [
            "WARNING:tensorflow:From C:\\Users\\Tamma\\Anaconda3\\lib\\site-packages\\tensorflow\\python\\ops\\math_ops.py:3066: to_int32 (from tensorflow.python.ops.math_ops) is deprecated and will be removed in a future version.\n",
            "Instructions for updating:\n",
            "Use tf.cast instead.\n",
            "Epoch 1/10\n",
            "19/19 [==============================] - 11s 565ms/step - loss: 0.6221 - acc: 0.7500\n",
            "85/85 [==============================] - 129s 2s/step - loss: 0.6754 - acc: 0.5785 - val_loss: 0.6221 - val_acc: 0.7500\n",
            "Epoch 2/10\n",
            "19/19 [==============================] - 10s 551ms/step - loss: 0.6236 - acc: 0.6791\n",
            "85/85 [==============================] - 125s 1s/step - loss: 0.6366 - acc: 0.6474 - val_loss: 0.6236 - val_acc: 0.6791\n",
            "Epoch 3/10\n",
            "19/19 [==============================] - 10s 550ms/step - loss: 0.5368 - acc: 0.7736\n",
            "85/85 [==============================] - 128s 2s/step - loss: 0.6002 - acc: 0.6874 - val_loss: 0.5368 - val_acc: 0.7736\n",
            "Epoch 4/10\n",
            "19/19 [==============================] - 15s 786ms/step - loss: 0.4657 - acc: 0.7804\n",
            "85/85 [==============================] - 131s 2s/step - loss: 0.5434 - acc: 0.7400 - val_loss: 0.4657 - val_acc: 0.7804\n",
            "Epoch 5/10\n",
            "19/19 [==============================] - 11s 563ms/step - loss: 0.4239 - acc: 0.8074\n",
            "85/85 [==============================] - 126s 1s/step - loss: 0.4974 - acc: 0.7585 - val_loss: 0.4239 - val_acc: 0.8074\n",
            "Epoch 6/10\n",
            "19/19 [==============================] - 11s 570ms/step - loss: 0.4475 - acc: 0.7973\n",
            "85/85 [==============================] - 130s 2s/step - loss: 0.4677 - acc: 0.7896 - val_loss: 0.4475 - val_acc: 0.7973\n",
            "Epoch 7/10\n",
            "19/19 [==============================] - 11s 572ms/step - loss: 0.3950 - acc: 0.8209\n",
            "85/85 [==============================] - 130s 2s/step - loss: 0.4319 - acc: 0.8015 - val_loss: 0.3950 - val_acc: 0.8209\n",
            "Epoch 8/10\n",
            "19/19 [==============================] - 10s 551ms/step - loss: 0.4045 - acc: 0.8142\n",
            "85/85 [==============================] - 133s 2s/step - loss: 0.4261 - acc: 0.8067 - val_loss: 0.4045 - val_acc: 0.8142\n",
            "Epoch 9/10\n",
            "19/19 [==============================] - 10s 551ms/step - loss: 0.4211 - acc: 0.8041\n",
            "85/85 [==============================] - 126s 1s/step - loss: 0.3962 - acc: 0.8185 - val_loss: 0.4211 - val_acc: 0.8041\n",
            "Epoch 10/10\n",
            "19/19 [==============================] - 11s 555ms/step - loss: 0.4245 - acc: 0.8108\n",
            "85/85 [==============================] - 126s 1s/step - loss: 0.3721 - acc: 0.8326 - val_loss: 0.4245 - val_acc: 0.8108\n"
          ],
          "name": "stdout"
        }
      ]
    },
    {
      "cell_type": "code",
      "metadata": {
        "id": "rfmzxEPsVG2W"
      },
      "source": [
        "# Decsent Accuracy , Let's Try if we can achieve more\n",
        "\n",
        "#added batch normalization after each convolution and added one more convolution unit with 128 filters"
      ],
      "execution_count": null,
      "outputs": []
    },
    {
      "cell_type": "code",
      "metadata": {
        "id": "WOFCPFqYVG2a",
        "outputId": "6b97e455-82e9-4f8c-e568-6fa8971109fe"
      },
      "source": [
        "model = tf.keras.models.Sequential([\n",
        "    tf.keras.layers.Conv2D(16,(3,3),activation='relu',padding='same',input_shape=(220,220,3)),\n",
        "    tf.keras.layers.BatchNormalization(),\n",
        "    tf.keras.layers.MaxPooling2D(2,2),\n",
        "\n",
        "    tf.keras.layers.Conv2D(32,(3,3),activation='relu'),\n",
        "    tf.keras.layers.BatchNormalization(),\n",
        "    tf.keras.layers.MaxPooling2D(2,2),\n",
        "\n",
        "    tf.keras.layers.Conv2D(64,(3,3),activation='relu'),\n",
        "    tf.keras.layers.BatchNormalization(),\n",
        "    tf.keras.layers.MaxPooling2D(2,2),\n",
        "\n",
        "    tf.keras.layers.Conv2D(128,(3,3),activation='relu'),\n",
        "    tf.keras.layers.BatchNormalization(),\n",
        "    tf.keras.layers.MaxPooling2D(2,2),\n",
        "    \n",
        "    tf.keras.layers.Flatten(),\n",
        "    \n",
        "    tf.keras.layers.Dense(128,activation='relu'),\n",
        "    tf.keras.layers.Dense(1,activation='sigmoid')\n",
        "])\n",
        "\n",
        "model.compile(loss=tf.keras.losses.binary_crossentropy,\n",
        "             optimizer=tf.keras.optimizers.SGD(),\n",
        "             metrics=['accuracy'])\n",
        "\n",
        "model.summary()"
      ],
      "execution_count": null,
      "outputs": [
        {
          "output_type": "stream",
          "text": [
            "WARNING:tensorflow:From C:\\Users\\Tamma\\Anaconda3\\lib\\site-packages\\tensorflow\\python\\ops\\resource_variable_ops.py:435: colocate_with (from tensorflow.python.framework.ops) is deprecated and will be removed in a future version.\n",
            "Instructions for updating:\n",
            "Colocations handled automatically by placer.\n",
            "_________________________________________________________________\n",
            "Layer (type)                 Output Shape              Param #   \n",
            "=================================================================\n",
            "conv2d (Conv2D)              (None, 220, 220, 16)      448       \n",
            "_________________________________________________________________\n",
            "batch_normalization_v1 (Batc (None, 220, 220, 16)      64        \n",
            "_________________________________________________________________\n",
            "max_pooling2d (MaxPooling2D) (None, 110, 110, 16)      0         \n",
            "_________________________________________________________________\n",
            "conv2d_1 (Conv2D)            (None, 108, 108, 32)      4640      \n",
            "_________________________________________________________________\n",
            "batch_normalization_v1_1 (Ba (None, 108, 108, 32)      128       \n",
            "_________________________________________________________________\n",
            "max_pooling2d_1 (MaxPooling2 (None, 54, 54, 32)        0         \n",
            "_________________________________________________________________\n",
            "conv2d_2 (Conv2D)            (None, 52, 52, 64)        18496     \n",
            "_________________________________________________________________\n",
            "batch_normalization_v1_2 (Ba (None, 52, 52, 64)        256       \n",
            "_________________________________________________________________\n",
            "max_pooling2d_2 (MaxPooling2 (None, 26, 26, 64)        0         \n",
            "_________________________________________________________________\n",
            "conv2d_3 (Conv2D)            (None, 24, 24, 128)       73856     \n",
            "_________________________________________________________________\n",
            "batch_normalization_v1_3 (Ba (None, 24, 24, 128)       512       \n",
            "_________________________________________________________________\n",
            "max_pooling2d_3 (MaxPooling2 (None, 12, 12, 128)       0         \n",
            "_________________________________________________________________\n",
            "flatten (Flatten)            (None, 18432)             0         \n",
            "_________________________________________________________________\n",
            "dense (Dense)                (None, 128)               2359424   \n",
            "_________________________________________________________________\n",
            "dense_1 (Dense)              (None, 1)                 129       \n",
            "=================================================================\n",
            "Total params: 2,457,953\n",
            "Trainable params: 2,457,473\n",
            "Non-trainable params: 480\n",
            "_________________________________________________________________\n"
          ],
          "name": "stdout"
        }
      ]
    },
    {
      "cell_type": "code",
      "metadata": {
        "id": "PMqB4vMhVG2d",
        "outputId": "430c9024-31b7-4e76-acaa-5f59de424298"
      },
      "source": [
        "results = model.fit_generator(train_generator,\n",
        "                   epochs=10,\n",
        "                   validation_data=validation_generator,\n",
        "                   verbose=1)"
      ],
      "execution_count": null,
      "outputs": [
        {
          "output_type": "stream",
          "text": [
            "WARNING:tensorflow:From C:\\Users\\Tamma\\Anaconda3\\lib\\site-packages\\tensorflow\\python\\ops\\math_ops.py:3066: to_int32 (from tensorflow.python.ops.math_ops) is deprecated and will be removed in a future version.\n",
            "Instructions for updating:\n",
            "Use tf.cast instead.\n",
            "Epoch 1/10\n",
            "19/19 [==============================] - 14s 750ms/step - loss: 0.7242 - acc: 0.4189\n",
            "85/85 [==============================] - 529s 6s/step - loss: 0.6073 - acc: 0.7333 - val_loss: 0.7242 - val_acc: 0.4189\n",
            "Epoch 2/10\n",
            "19/19 [==============================] - 13s 670ms/step - loss: 0.4705 - acc: 0.7500\n",
            "85/85 [==============================] - 519s 6s/step - loss: 0.2605 - acc: 0.8978 - val_loss: 0.4705 - val_acc: 0.7500\n",
            "Epoch 3/10\n",
            "19/19 [==============================] - 8s 426ms/step - loss: 0.4374 - acc: 0.7973\n",
            "85/85 [==============================] - 484s 6s/step - loss: 0.1366 - acc: 0.9533 - val_loss: 0.4374 - val_acc: 0.7973\n",
            "Epoch 4/10\n",
            "19/19 [==============================] - 14s 736ms/step - loss: 0.5098 - acc: 0.8108\n",
            "85/85 [==============================] - 399s 5s/step - loss: 0.0629 - acc: 0.9852 - val_loss: 0.5098 - val_acc: 0.8108\n",
            "Epoch 5/10\n",
            "19/19 [==============================] - 12s 637ms/step - loss: 0.4717 - acc: 0.8108\n",
            "85/85 [==============================] - 518s 6s/step - loss: 0.0275 - acc: 0.9970 - val_loss: 0.4717 - val_acc: 0.8108\n",
            "Epoch 6/10\n",
            "19/19 [==============================] - 9s 455ms/step - loss: 0.4262 - acc: 0.8581\n",
            "85/85 [==============================] - 485s 6s/step - loss: 0.0227 - acc: 0.9970 - val_loss: 0.4262 - val_acc: 0.8581\n",
            "Epoch 7/10\n",
            "19/19 [==============================] - 9s 455ms/step - loss: 0.4508 - acc: 0.8412\n",
            "85/85 [==============================] - 500s 6s/step - loss: 0.0157 - acc: 0.9978 - val_loss: 0.4508 - val_acc: 0.8412\n",
            "Epoch 8/10\n",
            "19/19 [==============================] - 13s 665ms/step - loss: 0.4531 - acc: 0.8480\n",
            "85/85 [==============================] - 468s 6s/step - loss: 0.0153 - acc: 0.9963 - val_loss: 0.4531 - val_acc: 0.8480\n",
            "Epoch 9/10\n",
            "19/19 [==============================] - 15s 781ms/step - loss: 0.4580 - acc: 0.8514\n",
            "85/85 [==============================] - 600s 7s/step - loss: 0.0092 - acc: 0.9978 - val_loss: 0.4580 - val_acc: 0.8514\n",
            "Epoch 10/10\n",
            "19/19 [==============================] - 13s 692ms/step - loss: 0.4492 - acc: 0.8649\n",
            "85/85 [==============================] - 489s 6s/step - loss: 0.0097 - acc: 0.9963 - val_loss: 0.4492 - val_acc: 0.8649\n"
          ],
          "name": "stdout"
        }
      ]
    },
    {
      "cell_type": "code",
      "metadata": {
        "id": "WvKKluloVG2g"
      },
      "source": [
        "#Model is bit Overfit , Let's add Dropout after Dense and see the results"
      ],
      "execution_count": null,
      "outputs": []
    },
    {
      "cell_type": "code",
      "metadata": {
        "id": "qdhCd-G3VG2k",
        "outputId": "429674ec-1471-4961-90a7-a5f35f0188d8"
      },
      "source": [
        "model = tf.keras.models.Sequential([\n",
        "    tf.keras.layers.Conv2D(16,(3,3),activation='relu',padding='same',input_shape=(220,220,3)),\n",
        "    tf.keras.layers.BatchNormalization(),\n",
        "    tf.keras.layers.MaxPooling2D(2,2),\n",
        "\n",
        "    tf.keras.layers.Conv2D(32,(3,3),activation='relu'),\n",
        "    tf.keras.layers.BatchNormalization(),\n",
        "    tf.keras.layers.MaxPooling2D(2,2),\n",
        "\n",
        "    tf.keras.layers.Conv2D(64,(3,3),activation='relu'),\n",
        "    tf.keras.layers.BatchNormalization(),\n",
        "    tf.keras.layers.MaxPooling2D(2,2),\n",
        "\n",
        "    tf.keras.layers.Conv2D(128,(3,3),activation='relu'),\n",
        "    tf.keras.layers.BatchNormalization(),\n",
        "    tf.keras.layers.MaxPooling2D(2,2),\n",
        "    \n",
        "    tf.keras.layers.Flatten(),\n",
        "    \n",
        "    tf.keras.layers.Dense(128,activation='relu'),\n",
        "    tf.keras.layers.Dropout(0.3),\n",
        "    tf.keras.layers.Dense(1,activation='sigmoid')\n",
        "])\n",
        "\n",
        "model.compile(loss=tf.keras.losses.binary_crossentropy,\n",
        "             optimizer=tf.keras.optimizers.SGD(),\n",
        "             metrics=['accuracy'])\n",
        "\n",
        "model.summary()"
      ],
      "execution_count": null,
      "outputs": [
        {
          "output_type": "stream",
          "text": [
            "_________________________________________________________________\n",
            "Layer (type)                 Output Shape              Param #   \n",
            "=================================================================\n",
            "conv2d_12 (Conv2D)           (None, 220, 220, 16)      448       \n",
            "_________________________________________________________________\n",
            "batch_normalization_v1_12 (B (None, 220, 220, 16)      64        \n",
            "_________________________________________________________________\n",
            "max_pooling2d_12 (MaxPooling (None, 110, 110, 16)      0         \n",
            "_________________________________________________________________\n",
            "conv2d_13 (Conv2D)           (None, 108, 108, 32)      4640      \n",
            "_________________________________________________________________\n",
            "batch_normalization_v1_13 (B (None, 108, 108, 32)      128       \n",
            "_________________________________________________________________\n",
            "max_pooling2d_13 (MaxPooling (None, 54, 54, 32)        0         \n",
            "_________________________________________________________________\n",
            "conv2d_14 (Conv2D)           (None, 52, 52, 64)        18496     \n",
            "_________________________________________________________________\n",
            "batch_normalization_v1_14 (B (None, 52, 52, 64)        256       \n",
            "_________________________________________________________________\n",
            "max_pooling2d_14 (MaxPooling (None, 26, 26, 64)        0         \n",
            "_________________________________________________________________\n",
            "conv2d_15 (Conv2D)           (None, 24, 24, 128)       73856     \n",
            "_________________________________________________________________\n",
            "batch_normalization_v1_15 (B (None, 24, 24, 128)       512       \n",
            "_________________________________________________________________\n",
            "max_pooling2d_15 (MaxPooling (None, 12, 12, 128)       0         \n",
            "_________________________________________________________________\n",
            "flatten_3 (Flatten)          (None, 18432)             0         \n",
            "_________________________________________________________________\n",
            "dense_6 (Dense)              (None, 128)               2359424   \n",
            "_________________________________________________________________\n",
            "dropout_2 (Dropout)          (None, 128)               0         \n",
            "_________________________________________________________________\n",
            "dense_7 (Dense)              (None, 1)                 129       \n",
            "=================================================================\n",
            "Total params: 2,457,953\n",
            "Trainable params: 2,457,473\n",
            "Non-trainable params: 480\n",
            "_________________________________________________________________\n"
          ],
          "name": "stdout"
        }
      ]
    },
    {
      "cell_type": "code",
      "metadata": {
        "id": "X3KJ7M82VG2n",
        "outputId": "34bb8ab9-0809-4972-e662-1a6cbb1f2777"
      },
      "source": [
        "try:\n",
        "    os.mkdir(target_dir + '\\\\'+'Models')\n",
        "except OSError:\n",
        "    pass\n",
        "\n",
        "model_dir = os.path.join(target_dir + '\\\\'+'Models\\\\')\n",
        "# model_dir\n",
        "filepath = model_dir + 'model-{epoch:05d}-{acc:.5f}-{val_acc:.5f}.h5'\n",
        "checkpoint = tf.keras.callbacks.ModelCheckpoint(filepath, monitor='val_acc',save_best_only=True, mode='auto')\n",
        "early_stopping = tf.keras.callbacks.EarlyStopping(monitor='val_acc',patience=3)\n",
        "\n",
        "callback_list = [checkpoint,early_stopping]\n",
        "\n",
        "results = model.fit_generator(train_generator,\n",
        "                   epochs=10,\n",
        "                   validation_data=validation_generator,\n",
        "                   callbacks=callback_list,\n",
        "                   verbose=1)"
      ],
      "execution_count": null,
      "outputs": [
        {
          "output_type": "stream",
          "text": [
            "Epoch 1/10\n",
            "19/19 [==============================] - 9s 471ms/step - loss: 0.7898 - acc: 0.2973\n",
            "85/85 [==============================] - 416s 5s/step - loss: 0.6355 - acc: 0.7444 - val_loss: 0.7898 - val_acc: 0.2973\n",
            "Epoch 2/10\n",
            "19/19 [==============================] - 8s 444ms/step - loss: 0.6414 - acc: 0.5980\n",
            "85/85 [==============================] - 378s 4s/step - loss: 0.3554 - acc: 0.8370 - val_loss: 0.6414 - val_acc: 0.5980\n",
            "Epoch 3/10\n",
            "19/19 [==============================] - 8s 430ms/step - loss: 0.4721 - acc: 0.7905\n",
            "85/85 [==============================] - 383s 5s/step - loss: 0.2454 - acc: 0.9015 - val_loss: 0.4721 - val_acc: 0.7905\n",
            "Epoch 4/10\n",
            "19/19 [==============================] - 8s 441ms/step - loss: 0.4530 - acc: 0.8243\n",
            "85/85 [==============================] - 360s 4s/step - loss: 0.1702 - acc: 0.9400 - val_loss: 0.4530 - val_acc: 0.8243\n",
            "Epoch 5/10\n",
            "19/19 [==============================] - 8s 435ms/step - loss: 0.4455 - acc: 0.8345\n",
            "85/85 [==============================] - 359s 4s/step - loss: 0.1005 - acc: 0.9689 - val_loss: 0.4455 - val_acc: 0.8345\n",
            "Epoch 6/10\n",
            "19/19 [==============================] - 8s 438ms/step - loss: 0.4562 - acc: 0.8446\n",
            "85/85 [==============================] - 359s 4s/step - loss: 0.0717 - acc: 0.9815 - val_loss: 0.4562 - val_acc: 0.8446\n",
            "Epoch 7/10\n",
            "19/19 [==============================] - 8s 424ms/step - loss: 0.4342 - acc: 0.8581\n",
            "85/85 [==============================] - 359s 4s/step - loss: 0.0421 - acc: 0.9933 - val_loss: 0.4342 - val_acc: 0.8581\n",
            "Epoch 8/10\n",
            "19/19 [==============================] - 8s 434ms/step - loss: 0.4463 - acc: 0.8547\n",
            "85/85 [==============================] - 360s 4s/step - loss: 0.0329 - acc: 0.9896 - val_loss: 0.4463 - val_acc: 0.8547\n",
            "Epoch 9/10\n",
            "19/19 [==============================] - 8s 426ms/step - loss: 0.4277 - acc: 0.8581\n",
            "85/85 [==============================] - 360s 4s/step - loss: 0.0296 - acc: 0.9933 - val_loss: 0.4277 - val_acc: 0.8581\n",
            "Epoch 10/10\n",
            "19/19 [==============================] - 8s 439ms/step - loss: 0.5175 - acc: 0.8581\n",
            "85/85 [==============================] - 360s 4s/step - loss: 0.0200 - acc: 0.9963 - val_loss: 0.5175 - val_acc: 0.8581\n"
          ],
          "name": "stdout"
        }
      ]
    },
    {
      "cell_type": "code",
      "metadata": {
        "id": "8HcCMmENVG2r",
        "outputId": "24198b46-db94-4b2f-dbac-4fe81bc97b3b"
      },
      "source": [
        "train_accuracy = results.history['acc']\n",
        "validation_accuracy = results.history['val_acc']\n",
        "epochs = range(0,len(train_accuracy))\n",
        "\n",
        "plt.plot(epochs,train_accuracy,'go-',label='Train Accuracy')\n",
        "plt.plot(epochs,validation_accuracy,'ro-',label='Test Accuracy')\n",
        "plt.title('Train and Test Accuracy')\n",
        "plt.legend()"
      ],
      "execution_count": null,
      "outputs": [
        {
          "output_type": "execute_result",
          "data": {
            "text/plain": [
              "<matplotlib.legend.Legend at 0x1c280a79788>"
            ]
          },
          "metadata": {
            "tags": []
          },
          "execution_count": 31
        },
        {
          "output_type": "display_data",
          "data": {
            "image/png": "[encoded data removed]",
            "text/plain": [
              "<Figure size 432x288 with 1 Axes>"
            ]
          },
          "metadata": {
            "tags": [],
            "needs_background": "light"
          }
        }
      ]
    },
    {
      "cell_type": "markdown",
      "metadata": {
        "id": "vNTPNxQOVG2u"
      },
      "source": [
        "Predictions on Unseen Images"
      ]
    },
    {
      "cell_type": "code",
      "metadata": {
        "id": "6wtI2ZIrVG2v"
      },
      "source": [
        "final_model = tf.keras.models.load_model(model_dir+'model-00007-0.99333-0.85811.h5')# final_model.predict"
      ],
      "execution_count": null,
      "outputs": []
    },
    {
      "cell_type": "markdown",
      "metadata": {
        "id": "Pb3oAEZuVG2z"
      },
      "source": [
        "#### Transfer Learning"
      ]
    },
    {
      "cell_type": "code",
      "metadata": {
        "id": "A7-QUHM2VG20",
        "outputId": "ccd85db5-b23b-4bc7-f45f-03b9dac406ba"
      },
      "source": [
        "model = tf.keras.applications.VGG16(weights='imagenet',\n",
        "                                       include_top=False,\n",
        "                                       input_shape=(220,220,3))\n",
        "\n",
        "for layer in model.layers:\n",
        "    layer.trainable = False\n",
        "    \n",
        "output = model.output\n",
        "    \n",
        "x = tf.keras.layers.GlobalAveragePooling2D()(output)\n",
        "x = tf.keras.layers.Dense(512,activation='relu')(x)\n",
        "x = tf.keras.layers.Dense(1,activation='sigmoid')(x)\n",
        "\n",
        "model = tf.keras.models.Model(inputs=model.input, outputs=x)\n",
        "\n",
        "model.compile(loss=tf.keras.losses.binary_crossentropy,\n",
        "             optimizer=tf.keras.optimizers.RMSprop(),\n",
        "             metrics=['accuracy'])\n",
        "\n",
        "model.summary()"
      ],
      "execution_count": null,
      "outputs": [
        {
          "output_type": "stream",
          "text": [
            "_________________________________________________________________\n",
            "Layer (type)                 Output Shape              Param #   \n",
            "=================================================================\n",
            "input_16 (InputLayer)        (None, 220, 220, 3)       0         \n",
            "_________________________________________________________________\n",
            "block1_conv1 (Conv2D)        (None, 220, 220, 64)      1792      \n",
            "_________________________________________________________________\n",
            "block1_conv2 (Conv2D)        (None, 220, 220, 64)      36928     \n",
            "_________________________________________________________________\n",
            "block1_pool (MaxPooling2D)   (None, 110, 110, 64)      0         \n",
            "_________________________________________________________________\n",
            "block2_conv1 (Conv2D)        (None, 110, 110, 128)     73856     \n",
            "_________________________________________________________________\n",
            "block2_conv2 (Conv2D)        (None, 110, 110, 128)     147584    \n",
            "_________________________________________________________________\n",
            "block2_pool (MaxPooling2D)   (None, 55, 55, 128)       0         \n",
            "_________________________________________________________________\n",
            "block3_conv1 (Conv2D)        (None, 55, 55, 256)       295168    \n",
            "_________________________________________________________________\n",
            "block3_conv2 (Conv2D)        (None, 55, 55, 256)       590080    \n",
            "_________________________________________________________________\n",
            "block3_conv3 (Conv2D)        (None, 55, 55, 256)       590080    \n",
            "_________________________________________________________________\n",
            "block3_pool (MaxPooling2D)   (None, 27, 27, 256)       0         \n",
            "_________________________________________________________________\n",
            "block4_conv1 (Conv2D)        (None, 27, 27, 512)       1180160   \n",
            "_________________________________________________________________\n",
            "block4_conv2 (Conv2D)        (None, 27, 27, 512)       2359808   \n",
            "_________________________________________________________________\n",
            "block4_conv3 (Conv2D)        (None, 27, 27, 512)       2359808   \n",
            "_________________________________________________________________\n",
            "block4_pool (MaxPooling2D)   (None, 13, 13, 512)       0         \n",
            "_________________________________________________________________\n",
            "block5_conv1 (Conv2D)        (None, 13, 13, 512)       2359808   \n",
            "_________________________________________________________________\n",
            "block5_conv2 (Conv2D)        (None, 13, 13, 512)       2359808   \n",
            "_________________________________________________________________\n",
            "block5_conv3 (Conv2D)        (None, 13, 13, 512)       2359808   \n",
            "_________________________________________________________________\n",
            "block5_pool (MaxPooling2D)   (None, 6, 6, 512)         0         \n",
            "_________________________________________________________________\n",
            "global_average_pooling2d_9 ( (None, 512)               0         \n",
            "_________________________________________________________________\n",
            "dense_26 (Dense)             (None, 512)               262656    \n",
            "_________________________________________________________________\n",
            "dense_27 (Dense)             (None, 1)                 513       \n",
            "=================================================================\n",
            "Total params: 14,977,857\n",
            "Trainable params: 263,169\n",
            "Non-trainable params: 14,714,688\n",
            "_________________________________________________________________\n"
          ],
          "name": "stdout"
        }
      ]
    },
    {
      "cell_type": "code",
      "metadata": {
        "id": "Pyy3Cds5VG23",
        "outputId": "12d3022f-8ed3-4dbd-f962-3096732cce3a"
      },
      "source": [
        "try:\n",
        "    os.mkdir(target_dir + '\\\\'+'Models')\n",
        "except OSError:\n",
        "    pass\n",
        "\n",
        "model_dir = os.path.join(target_dir + '\\\\'+'Models\\\\')\n",
        "# model_dir\n",
        "filepath = model_dir + 'transfer_model-{epoch:05d}-{acc:.5f}-{val_acc:.5f}.h5'\n",
        "checkpoint = tf.keras.callbacks.ModelCheckpoint(filepath, monitor='val_acc',save_best_only=False, mode='auto')\n",
        "early_stopping = tf.keras.callbacks.EarlyStopping(monitor='val_acc',patience=3)\n",
        "\n",
        "callback_list = [checkpoint,early_stopping]\n",
        "\n",
        "\n",
        "results = model.fit_generator(train_generator,\n",
        "                   epochs=10,\n",
        "                   validation_data=validation_generator,\n",
        "                   callbacks=callback_list,\n",
        "                   verbose=1)"
      ],
      "execution_count": null,
      "outputs": [
        {
          "output_type": "stream",
          "text": [
            "Epoch 1/10\n",
            "19/19 [==============================] - 356s 19s/step - loss: 0.2949 - acc: 0.8818\n",
            "85/85 [==============================] - 2276s 27s/step - loss: 0.4817 - acc: 0.7644 - val_loss: 0.2949 - val_acc: 0.8818\n",
            "Epoch 2/10\n",
            "19/19 [==============================] - 315s 17s/step - loss: 0.3195 - acc: 0.8682\n",
            "85/85 [==============================] - 1951s 23s/step - loss: 0.3405 - acc: 0.8378 - val_loss: 0.3195 - val_acc: 0.8682\n",
            "Epoch 3/10\n",
            "19/19 [==============================] - 286s 15s/step - loss: 0.2433 - acc: 0.9020\n",
            "85/85 [==============================] - 1954s 23s/step - loss: 0.3056 - acc: 0.8770 - val_loss: 0.2433 - val_acc: 0.9020\n",
            "Epoch 4/10\n",
            "19/19 [==============================] - 320s 17s/step - loss: 0.2326 - acc: 0.9088\n",
            "85/85 [==============================] - 1843s 22s/step - loss: 0.2599 - acc: 0.8948 - val_loss: 0.2326 - val_acc: 0.9088\n",
            "Epoch 5/10\n",
            "19/19 [==============================] - 373s 20s/step - loss: 0.2393 - acc: 0.9054\n",
            "85/85 [==============================] - 1876s 22s/step - loss: 0.2505 - acc: 0.8993 - val_loss: 0.2393 - val_acc: 0.9054\n",
            "Epoch 6/10\n",
            "19/19 [==============================] - 289s 15s/step - loss: 0.2561 - acc: 0.9020\n",
            "85/85 [==============================] - 1736s 20s/step - loss: 0.2287 - acc: 0.9104 - val_loss: 0.2561 - val_acc: 0.9020\n",
            "Epoch 7/10\n",
            "19/19 [==============================] - 309s 16s/step - loss: 0.2722 - acc: 0.9020\n",
            "85/85 [==============================] - 1803s 21s/step - loss: 0.2266 - acc: 0.9133 - val_loss: 0.2722 - val_acc: 0.9020\n"
          ],
          "name": "stdout"
        }
      ]
    },
    {
      "cell_type": "code",
      "metadata": {
        "id": "QwdbX12RVG27",
        "outputId": "4fd48b07-8576-45e3-8d36-1d8537f425a2"
      },
      "source": [
        "train_accuracy = results.history['acc']\n",
        "validation_accuracy = results.history['val_acc']\n",
        "\n",
        "train_loss = results.history['loss']\n",
        "validation_loss = results.history['val_loss']\n",
        "epochs = range(0,len(train_accuracy))\n",
        "\n",
        "\n",
        "plt.figure(figsize=(15,5))\n",
        "plt.subplot(1,2,1)\n",
        "plt.plot(epochs,train_accuracy,'go-',label='Train Accuracy')\n",
        "plt.plot(epochs,validation_accuracy,'ro-',label='Test Accuracy')\n",
        "plt.title('Train and Test Accuracy')\n",
        "plt.xlabel('Epoch')\n",
        "plt.ylabel('Accuracy')\n",
        "plt.legend()\n",
        "\n",
        "plt.subplot(1,2,2)\n",
        "plt.plot(epochs,train_loss,'go-',label='Train Loss')\n",
        "plt.plot(epochs,validation_loss,'ro-',label='Test Loss')\n",
        "plt.title('Train and Test Loss')\n",
        "plt.xlabel('Epoch')\n",
        "plt.ylabel('Loss')\n",
        "plt.legend()"
      ],
      "execution_count": null,
      "outputs": [
        {
          "output_type": "execute_result",
          "data": {
            "text/plain": [
              "<matplotlib.legend.Legend at 0x1c3a7011b88>"
            ]
          },
          "metadata": {
            "tags": []
          },
          "execution_count": 148
        },
        {
          "output_type": "display_data",
          "data": {
            "image/png": "[encoded data removed]",
            "text/plain": [
              "<Figure size 1080x360 with 2 Axes>"
            ]
          },
          "metadata": {
            "tags": [],
            "needs_background": "light"
          }
        }
      ]
    },
    {
      "cell_type": "markdown",
      "metadata": {
        "id": "_lq9tYv4VG3A"
      },
      "source": [
        "After epoch 4 , validation loss starts increasing <br>\n",
        "at 4th epoch , accuracy of train and test are pretty good , Let's use 4th epoch model as best model"
      ]
    },
    {
      "cell_type": "code",
      "metadata": {
        "id": "vOqrpmxbVG3B"
      },
      "source": [
        "final_tr_model = tf.keras.models.load_model(model_dir+'transfer_model-00004-0.89481-0.90878.h5')# final_model.predict"
      ],
      "execution_count": null,
      "outputs": []
    },
    {
      "cell_type": "code",
      "metadata": {
        "id": "P6zYbYX1VG3F",
        "outputId": "b60995fe-cf6d-4110-9b6a-87850e4ac943"
      },
      "source": [
        "test.head()"
      ],
      "execution_count": null,
      "outputs": [
        {
          "output_type": "execute_result",
          "data": {
            "text/html": [
              "<div>\n",
              "<style scoped>\n",
              "    .dataframe tbody tr th:only-of-type {\n",
              "        vertical-align: middle;\n",
              "    }\n",
              "\n",
              "    .dataframe tbody tr th {\n",
              "        vertical-align: top;\n",
              "    }\n",
              "\n",
              "    .dataframe thead th {\n",
              "        text-align: right;\n",
              "    }\n",
              "</style>\n",
              "<table border=\"1\" class=\"dataframe\">\n",
              "  <thead>\n",
              "    <tr style=\"text-align: right;\">\n",
              "      <th></th>\n",
              "      <th>image_names</th>\n",
              "    </tr>\n",
              "  </thead>\n",
              "  <tbody>\n",
              "    <tr>\n",
              "      <th>0</th>\n",
              "      <td>1960.jpg</td>\n",
              "    </tr>\n",
              "    <tr>\n",
              "      <th>1</th>\n",
              "      <td>668.jpg</td>\n",
              "    </tr>\n",
              "    <tr>\n",
              "      <th>2</th>\n",
              "      <td>2082.jpg</td>\n",
              "    </tr>\n",
              "    <tr>\n",
              "      <th>3</th>\n",
              "      <td>808.jpg</td>\n",
              "    </tr>\n",
              "    <tr>\n",
              "      <th>4</th>\n",
              "      <td>1907.jpg</td>\n",
              "    </tr>\n",
              "  </tbody>\n",
              "</table>\n",
              "</div>"
            ],
            "text/plain": [
              "  image_names\n",
              "0    1960.jpg\n",
              "1     668.jpg\n",
              "2    2082.jpg\n",
              "3     808.jpg\n",
              "4    1907.jpg"
            ]
          },
          "metadata": {
            "tags": []
          },
          "execution_count": 164
        }
      ]
    },
    {
      "cell_type": "code",
      "metadata": {
        "id": "44YLDStvVG3M"
      },
      "source": [
        "# test_dir = os.path.join(target_dir+'\\\\'+'Vehicle_Images')\n",
        "# try:\n",
        "#     os.mkdir(test_dir+'\\\\'+'Unseen Images')\n",
        "# except OSError:\n",
        "#     pass\n",
        "\n",
        "# unseen_dir = os.path.join(test_dir+'\\\\'+'Unseen Images\\\\')\n",
        "\n",
        "# for image in test.image_names:\n",
        "#         shutil.copyfile(image_dir + '\\\\'+ image, unseen_dir +image)"
      ],
      "execution_count": null,
      "outputs": []
    },
    {
      "cell_type": "code",
      "metadata": {
        "id": "GvM2GPJ8VG3Q"
      },
      "source": [
        "# test_gen = tf.keras.preprocessing.image.ImageDataGenerator(rescale=1/255)\n",
        "\n",
        "# unseen_generator = test_gen.flow_from_directory(unseen_dir,\n",
        "#                                                 classes=['test'],\n",
        "#                                                 batch_size=16,\n",
        "#                                                 target_size=(220,220),\n",
        "#                                                 class_mode=None,\n",
        "#                                                 color_mode='rgb'\n",
        "#                                                )\n",
        "\n",
        "# final_tr_model.predict_generator(unseen_generator)"
      ],
      "execution_count": null,
      "outputs": []
    },
    {
      "cell_type": "code",
      "metadata": {
        "id": "gh20Ul2TVG3U"
      },
      "source": [
        "# temp_img = cv2.imread(unseen_dir+test.image_names[0])\n",
        "# temp_img = cv2.resize(temp_img,(220,220))\n",
        "# temp_img = temp_img/255\n",
        "# temp_img = temp_img.reshape(1,220,220,3)\n",
        "# # plt.imshow(temp_img)\n",
        "# # np.argmax(final_tr_model.predict(temp_img))\n",
        "# 0 if final_tr_model.predict(temp_img)[0][0]<0.50 else 1"
      ],
      "execution_count": null,
      "outputs": []
    },
    {
      "cell_type": "code",
      "metadata": {
        "id": "ij44PEa2VG3X"
      },
      "source": [
        "def predict(img):\n",
        "    temp_img = cv2.imread(image_dir+'\\\\'+img)\n",
        "    temp_img = cv2.resize(temp_img,(220,220))\n",
        "    temp_img = temp_img/255\n",
        "    temp_img = temp_img.reshape(1,220,220,3)\n",
        "    return(0 if final_tr_model.predict(temp_img)[0][0]<0.50 else 1)\n",
        "\n",
        "\n",
        "predictions = [predict(imag) for imag in list(test.image_names)]\n"
      ],
      "execution_count": null,
      "outputs": []
    },
    {
      "cell_type": "code",
      "metadata": {
        "id": "ckauH4poVG3a"
      },
      "source": [
        "test['emergency_or_not'] = predictions"
      ],
      "execution_count": null,
      "outputs": []
    },
    {
      "cell_type": "code",
      "metadata": {
        "id": "7YNn7LwtVG3d"
      },
      "source": [
        "# test.to_csv('final_VGG16.csv',index=False)"
      ],
      "execution_count": null,
      "outputs": []
    },
    {
      "cell_type": "code",
      "metadata": {
        "id": "kJf52HskVG3f",
        "outputId": "f36a5a59-4253-4c87-885d-36fde9a24eee"
      },
      "source": [
        "test"
      ],
      "execution_count": null,
      "outputs": [
        {
          "output_type": "execute_result",
          "data": {
            "text/html": [
              "<div>\n",
              "<style scoped>\n",
              "    .dataframe tbody tr th:only-of-type {\n",
              "        vertical-align: middle;\n",
              "    }\n",
              "\n",
              "    .dataframe tbody tr th {\n",
              "        vertical-align: top;\n",
              "    }\n",
              "\n",
              "    .dataframe thead th {\n",
              "        text-align: right;\n",
              "    }\n",
              "</style>\n",
              "<table border=\"1\" class=\"dataframe\">\n",
              "  <thead>\n",
              "    <tr style=\"text-align: right;\">\n",
              "      <th></th>\n",
              "      <th>image_names</th>\n",
              "      <th>emergency_or_not</th>\n",
              "    </tr>\n",
              "  </thead>\n",
              "  <tbody>\n",
              "    <tr>\n",
              "      <th>0</th>\n",
              "      <td>1960.jpg</td>\n",
              "      <td>1</td>\n",
              "    </tr>\n",
              "    <tr>\n",
              "      <th>1</th>\n",
              "      <td>668.jpg</td>\n",
              "      <td>0</td>\n",
              "    </tr>\n",
              "    <tr>\n",
              "      <th>2</th>\n",
              "      <td>2082.jpg</td>\n",
              "      <td>1</td>\n",
              "    </tr>\n",
              "    <tr>\n",
              "      <th>3</th>\n",
              "      <td>808.jpg</td>\n",
              "      <td>0</td>\n",
              "    </tr>\n",
              "    <tr>\n",
              "      <th>4</th>\n",
              "      <td>1907.jpg</td>\n",
              "      <td>1</td>\n",
              "    </tr>\n",
              "    <tr>\n",
              "      <th>...</th>\n",
              "      <td>...</td>\n",
              "      <td>...</td>\n",
              "    </tr>\n",
              "    <tr>\n",
              "      <th>701</th>\n",
              "      <td>674.jpg</td>\n",
              "      <td>0</td>\n",
              "    </tr>\n",
              "    <tr>\n",
              "      <th>702</th>\n",
              "      <td>1027.jpg</td>\n",
              "      <td>1</td>\n",
              "    </tr>\n",
              "    <tr>\n",
              "      <th>703</th>\n",
              "      <td>447.jpg</td>\n",
              "      <td>0</td>\n",
              "    </tr>\n",
              "    <tr>\n",
              "      <th>704</th>\n",
              "      <td>2176.jpg</td>\n",
              "      <td>1</td>\n",
              "    </tr>\n",
              "    <tr>\n",
              "      <th>705</th>\n",
              "      <td>1014.jpg</td>\n",
              "      <td>1</td>\n",
              "    </tr>\n",
              "  </tbody>\n",
              "</table>\n",
              "<p>706 rows × 2 columns</p>\n",
              "</div>"
            ],
            "text/plain": [
              "    image_names  emergency_or_not\n",
              "0      1960.jpg                 1\n",
              "1       668.jpg                 0\n",
              "2      2082.jpg                 1\n",
              "3       808.jpg                 0\n",
              "4      1907.jpg                 1\n",
              "..          ...               ...\n",
              "701     674.jpg                 0\n",
              "702    1027.jpg                 1\n",
              "703     447.jpg                 0\n",
              "704    2176.jpg                 1\n",
              "705    1014.jpg                 1\n",
              "\n",
              "[706 rows x 2 columns]"
            ]
          },
          "metadata": {
            "tags": []
          },
          "execution_count": 212
        }
      ]
    },
    {
      "cell_type": "code",
      "metadata": {
        "id": "cZeNQoeTVG3i"
      },
      "source": [
        ""
      ],
      "execution_count": null,
      "outputs": []
    }
  ]
}